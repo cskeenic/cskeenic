{
 "cells": [
  {
   "cell_type": "markdown",
   "id": "7a89e7cf-4109-43e6-a826-cb58bc674b15",
   "metadata": {},
   "source": [
    "# Data Science Tools and Ecosystem"
   ]
  },
  {
   "cell_type": "markdown",
   "id": "d210da64-4ae2-4c5b-9c9b-fc978b2b6604",
   "metadata": {},
   "source": [
    "In this notebook, Data Science Tools and Ecosystem are summarized."
   ]
  },
  {
   "cell_type": "markdown",
   "id": "487a9d86-e5c5-4817-9fb1-cddbd6d4281d",
   "metadata": {},
   "source": [
    "**Objectives**\n",
    "- Create markdown cells\n",
    "- Add comments to code cells\n",
    "- Format content of markdown cells with heading styles\n",
    "- Add ordered and unordered list to markdown cells"
   ]
  },
  {
   "cell_type": "markdown",
   "id": "47404577-efd2-4544-bfab-dfef7c3329d5",
   "metadata": {},
   "source": [
    "Some of the popular languages that Data Scientists use are:\n",
    "1. Python\n",
    "2. R\n",
    "3. SQL\n",
    "4. Scala\n",
    "5. Java\n",
    "6. C++\n",
    "7. Julia\n",
    "8. Javascript\n",
    "9. PHP\n",
    "10. Go"
   ]
  },
  {
   "cell_type": "markdown",
   "id": "9781ffe6-0e74-474e-b860-ceaff7d3d6fe",
   "metadata": {},
   "source": [
    "Some of the commonly used libraries used by Data Scientists include:\n",
    "1. Pandas\n",
    "2. Numpy\n",
    "3. Matplotlib\n",
    "4. Seaborn\n",
    "5. Scikit-learn\n",
    "6. Keras\n",
    "7. TensorFlow\n",
    "8. Pytorch\n",
    "9. Apache Spark\n",
    "10. Vegas"
   ]
  },
  {
   "cell_type": "markdown",
   "id": "e624108d-092e-46ad-a594-1137c924a62b",
   "metadata": {},
   "source": [
    "|Data Science Tool|\n",
    "-------------------\n",
    "|Anaconda|\n",
    "|Jupyter Notebooks|\n",
    "|R Studio|"
   ]
  },
  {
   "cell_type": "markdown",
   "id": "69400f47-db34-4b11-b1c7-b23a39551013",
   "metadata": {},
   "source": [
    "### Below are a few examples of evaluating arithmetic expressions in Python"
   ]
  },
  {
   "cell_type": "code",
   "execution_count": 3,
   "id": "afcaf47a-9800-44b4-9c55-3cc0a95d4b1a",
   "metadata": {},
   "outputs": [
    {
     "data": {
      "text/plain": [
       "17"
      ]
     },
     "execution_count": 3,
     "metadata": {},
     "output_type": "execute_result"
    }
   ],
   "source": [
    "# This is a simple arithmetic expression to multiply then add integers.\n",
    "(3*4)+5"
   ]
  },
  {
   "cell_type": "code",
   "execution_count": 6,
   "id": "20c3eafd-9cc2-4f73-9d16-e2738530478c",
   "metadata": {},
   "outputs": [
    {
     "data": {
      "text/plain": [
       "3.3333333333333335"
      ]
     },
     "execution_count": 6,
     "metadata": {},
     "output_type": "execute_result"
    }
   ],
   "source": [
    "# This will convert 200 minutes to hours by dividing by 60.\n",
    "200/60"
   ]
  },
  {
   "cell_type": "markdown",
   "id": "2a9f36ac-fda0-4156-9baa-7d5bfbd2f72b",
   "metadata": {},
   "source": [
    "## Author\n",
    "Nicholas Kee"
   ]
  },
  {
   "cell_type": "code",
   "execution_count": null,
   "id": "7cc901be-edae-4779-af4a-e5f5a5ff5a69",
   "metadata": {},
   "outputs": [],
   "source": []
  }
 ],
 "metadata": {
  "kernelspec": {
   "display_name": "Python 3 (ipykernel)",
   "language": "python",
   "name": "python3"
  },
  "language_info": {
   "codemirror_mode": {
    "name": "ipython",
    "version": 3
   },
   "file_extension": ".py",
   "mimetype": "text/x-python",
   "name": "python",
   "nbconvert_exporter": "python",
   "pygments_lexer": "ipython3",
   "version": "3.11.7"
  }
 },
 "nbformat": 4,
 "nbformat_minor": 5
}
